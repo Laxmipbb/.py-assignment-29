{
 "cells": [
  {
   "cell_type": "code",
   "execution_count": 1,
   "id": "3ecbbe28-6a88-4341-a809-aa2e2b8479d2",
   "metadata": {},
   "outputs": [
    {
     "data": {
      "text/plain": [
       "'Guido van Rossum'"
      ]
     },
     "execution_count": 1,
     "metadata": {},
     "output_type": "execute_result"
    }
   ],
   "source": [
    "\"Guido van Rossum\""
   ]
  },
  {
   "cell_type": "code",
   "execution_count": 2,
   "id": "8547de3b-18cc-4f85-93b5-0b5ba47c50a6",
   "metadata": {},
   "outputs": [
    {
     "data": {
      "text/plain": [
       "'Object-Oriented and structured programming language'"
      ]
     },
     "execution_count": 2,
     "metadata": {},
     "output_type": "execute_result"
    }
   ],
   "source": [
    "\"Object-Oriented and structured programming language\""
   ]
  },
  {
   "cell_type": "code",
   "execution_count": 3,
   "id": "268b4224-eaa1-4b4e-99ee-bc1729144c44",
   "metadata": {},
   "outputs": [
    {
     "data": {
      "text/plain": [
       "'Yes, python is case sensitive when dealing with identifiers'"
      ]
     },
     "execution_count": 3,
     "metadata": {},
     "output_type": "execute_result"
    }
   ],
   "source": [
    "\"Yes, python is case sensitive when dealing with identifiers\""
   ]
  },
  {
   "cell_type": "code",
   "execution_count": 4,
   "id": "411215e6-430a-441c-b53d-92cee22e6764",
   "metadata": {},
   "outputs": [
    {
     "data": {
      "text/plain": [
       "'.py '"
      ]
     },
     "execution_count": 4,
     "metadata": {},
     "output_type": "execute_result"
    }
   ],
   "source": [
    "\".py \""
   ]
  },
  {
   "cell_type": "code",
   "execution_count": 5,
   "id": "6e626849-c7b9-4212-a025-84fb740b237d",
   "metadata": {},
   "outputs": [
    {
     "data": {
      "text/plain": [
       "'Interpreted'"
      ]
     },
     "execution_count": 5,
     "metadata": {},
     "output_type": "execute_result"
    }
   ],
   "source": [
    "\"Interpreted\""
   ]
  },
  {
   "cell_type": "code",
   "execution_count": 6,
   "id": "b1ecebf7-8c36-482a-9cdb-5a2500665016",
   "metadata": {},
   "outputs": [
    {
     "data": {
      "text/plain": [
       "'Indentation'"
      ]
     },
     "execution_count": 6,
     "metadata": {},
     "output_type": "execute_result"
    }
   ],
   "source": [
    "\"Indentation\""
   ]
  },
  {
   "cell_type": "code",
   "execution_count": 7,
   "id": "3fe84712-83fe-4622-bd5d-142a21a15fd5",
   "metadata": {},
   "outputs": [
    {
     "data": {
      "text/plain": [
       "'#'"
      ]
     },
     "execution_count": 7,
     "metadata": {},
     "output_type": "execute_result"
    }
   ],
   "source": [
    "\"#\""
   ]
  },
  {
   "cell_type": "code",
   "execution_count": 8,
   "id": "71a934e6-cc85-4682-8895-cb7340541b3a",
   "metadata": {},
   "outputs": [
    {
     "data": {
      "text/plain": [
       "'sys.version'"
      ]
     },
     "execution_count": 8,
     "metadata": {},
     "output_type": "execute_result"
    }
   ],
   "source": [
    "\"sys.version\""
   ]
  },
  {
   "cell_type": "code",
   "execution_count": 9,
   "id": "b3cb62b0-b835-4a6e-8b9b-3068943ac5fe",
   "metadata": {},
   "outputs": [
    {
     "data": {
      "text/plain": [
       "'lambada'"
      ]
     },
     "execution_count": 9,
     "metadata": {},
     "output_type": "execute_result"
    }
   ],
   "source": [
    "\"lambada\""
   ]
  },
  {
   "cell_type": "code",
   "execution_count": 10,
   "id": "65202725-7f28-40e9-be82-a0d3d2c34977",
   "metadata": {},
   "outputs": [
    {
     "data": {
      "text/plain": [
       "'Preferred Installer Program'"
      ]
     },
     "execution_count": 10,
     "metadata": {},
     "output_type": "execute_result"
    }
   ],
   "source": [
    "\"Preferred Installer Program\""
   ]
  },
  {
   "cell_type": "code",
   "execution_count": 11,
   "id": "5ba5ecb0-a3ae-4a30-9c82-0c992f7f9d20",
   "metadata": {},
   "outputs": [
    {
     "data": {
      "text/plain": [
       "'array(), bool(), callable(), classmethod()'"
      ]
     },
     "execution_count": 11,
     "metadata": {},
     "output_type": "execute_result"
    }
   ],
   "source": [
    "\"array(), bool(), callable(), classmethod()\""
   ]
  },
  {
   "cell_type": "code",
   "execution_count": 12,
   "id": "a8f6db62-7031-445a-939c-00300c07c28f",
   "metadata": {},
   "outputs": [
    {
     "data": {
      "text/plain": [
       "'79'"
      ]
     },
     "execution_count": 12,
     "metadata": {},
     "output_type": "execute_result"
    }
   ],
   "source": [
    "\"79\""
   ]
  },
  {
   "cell_type": "code",
   "execution_count": 13,
   "id": "64f6905e-8dbd-4aa3-bbeb-11fa69cc22c8",
   "metadata": {},
   "outputs": [
    {
     "data": {
      "text/plain": [
       "'Data science, scientific and mathematical calculation, game development, finance and tranding'"
      ]
     },
     "execution_count": 13,
     "metadata": {},
     "output_type": "execute_result"
    }
   ],
   "source": [
    "\"Data science, scientific and mathematical calculation, game development, finance and tranding\""
   ]
  },
  {
   "cell_type": "code",
   "execution_count": 14,
   "id": "f03ec811-3c2e-45ff-a9f7-b9f60a485796",
   "metadata": {},
   "outputs": [
    {
     "data": {
      "text/plain": [
       "'Memory management in python involves a private heap containing all python objects and data structures'"
      ]
     },
     "execution_count": 14,
     "metadata": {},
     "output_type": "execute_result"
    }
   ],
   "source": [
    "\"Memory management in python involves a private heap containing all python objects and data structures\""
   ]
  },
  {
   "cell_type": "code",
   "execution_count": 19,
   "id": "bf0fea8f-28df-490f-aedf-991bc359dc3c",
   "metadata": {},
   "outputs": [
    {
     "data": {
      "text/plain": [
       "'right clicking on the PC'"
      ]
     },
     "execution_count": 19,
     "metadata": {},
     "output_type": "execute_result"
    }
   ],
   "source": [
    "\"right clicking on the PC and going to properties, clicking on the advanced system setting in the menu on the left, clicking on the environment variable button on the bottom right, in the system variable section "
   ]
  },
  {
   "cell_type": "code",
   "execution_count": null,
   "id": "87311e4a-2f46-4d14-a639-3da36b3c15c2",
   "metadata": {},
   "outputs": [],
   "source": []
  }
 ],
 "metadata": {
  "kernelspec": {
   "display_name": "Python 3 (ipykernel)",
   "language": "python",
   "name": "python3"
  },
  "language_info": {
   "codemirror_mode": {
    "name": "ipython",
    "version": 3
   },
   "file_extension": ".py",
   "mimetype": "text/x-python",
   "name": "python",
   "nbconvert_exporter": "python",
   "pygments_lexer": "ipython3",
   "version": "3.10.8"
  }
 },
 "nbformat": 4,
 "nbformat_minor": 5
}
